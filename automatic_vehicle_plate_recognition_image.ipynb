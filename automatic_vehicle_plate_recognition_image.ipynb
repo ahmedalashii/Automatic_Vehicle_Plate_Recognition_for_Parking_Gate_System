{
 "cells": [
  {
   "cell_type": "code",
   "execution_count": 7,
   "metadata": {
    "id": "4WnnY40oQgAs"
   },
   "outputs": [],
   "source": [
    "!pip install -q -U google-generativeai"
   ]
  },
  {
   "cell_type": "code",
   "execution_count": null,
   "metadata": {
    "id": "za8B6ml7Q-l3"
   },
   "outputs": [
    {
     "ename": "ModuleNotFoundError",
     "evalue": "No module named 'google.colab'",
     "output_type": "error",
     "traceback": [
      "\u001b[1;31m---------------------------------------------------------------------------\u001b[0m",
      "\u001b[1;31mModuleNotFoundError\u001b[0m                       Traceback (most recent call last)",
      "Cell \u001b[1;32mIn[6], line 1\u001b[0m\n\u001b[1;32m----> 1\u001b[0m \u001b[38;5;28;01mfrom\u001b[39;00m \u001b[38;5;21;01mgoogle\u001b[39;00m\u001b[38;5;21;01m.\u001b[39;00m\u001b[38;5;21;01mcolab\u001b[39;00m \u001b[38;5;28;01mimport\u001b[39;00m userdata\n\u001b[0;32m      2\u001b[0m \u001b[38;5;28;01mimport\u001b[39;00m \u001b[38;5;21;01mos\u001b[39;00m\n\u001b[0;32m      3\u001b[0m \u001b[38;5;28;01mimport\u001b[39;00m \u001b[38;5;21;01mgoogle\u001b[39;00m\u001b[38;5;21;01m.\u001b[39;00m\u001b[38;5;21;01mgenerativeai\u001b[39;00m \u001b[38;5;28;01mas\u001b[39;00m \u001b[38;5;21;01mgenai\u001b[39;00m\n",
      "\u001b[1;31mModuleNotFoundError\u001b[0m: No module named 'google.colab'"
     ]
    }
   ],
   "source": [
    "from google.colab import userdata\n",
    "import google.generativeai as genai\n",
    "GOOGLE_API_KEY=userdata.get('GOOGLE_API_KEY')\n",
    "\n",
    "genai.configure(api_key=GOOGLE_API_KEY)"
   ]
  },
  {
   "cell_type": "code",
   "execution_count": null,
   "metadata": {
    "colab": {
     "base_uri": "https://localhost:8080/",
     "height": 173
    },
    "id": "QH4LDwaqR8_T",
    "outputId": "aaffcd2b-ab8e-4f64-8522-7ba8241d141e"
   },
   "outputs": [
    {
     "data": {
      "text/markdown": [
       "```json\n",
       "{\n",
       "    'plate': 'B 1308 RFK',\n",
       "    'vehicle': 'car',\n",
       "    'type': 'SUV',\n",
       "    'color': 'black',\n",
       "    'expiry_date': '09-22',\n",
       "    'gate_open_time': 'N/A',\n",
       "    'gate_closed_time': 'N/A'\n",
       "}\n",
       "```"
      ],
      "text/plain": [
       "<IPython.core.display.Markdown object>"
      ]
     },
     "execution_count": 9,
     "metadata": {},
     "output_type": "execute_result"
    }
   ],
   "source": [
    "# Plate Number Recognition From an Image\n",
    "\n",
    "import google.generativeai as genai\n",
    "import httpx\n",
    "import base64\n",
    "from IPython.display import Markdown\n",
    "import os\n",
    "\n",
    "# Choose a Gemini model.\n",
    "model = genai.GenerativeModel(model_name=\"gemini-1.5-flash\")\n",
    "\n",
    "def process_image_input(image_input):\n",
    "    \"\"\"\n",
    "    Takes either an image URL or an image file path and returns the base64 encoded image data.\n",
    "    \"\"\"\n",
    "    if isinstance(image_input, str) and image_input.startswith(\"http\"):\n",
    "        # If the input is a URL, fetch the image\n",
    "        response = httpx.get(image_input)\n",
    "        if response.status_code == 200:\n",
    "            return base64.b64encode(response.content).decode(\"utf-8\")\n",
    "        else:\n",
    "            raise ValueError(\"Failed to retrieve image from URL\")\n",
    "\n",
    "    elif os.path.isfile(image_input):\n",
    "        # If the input is a file, read the image file\n",
    "        with open(image_input, \"rb\") as file:\n",
    "            return base64.b64encode(file.read()).decode(\"utf-8\")\n",
    "\n",
    "    else:\n",
    "        raise ValueError(\"Invalid input: must be either a file path or a valid image URL.\")\n",
    "\n",
    "# Example of using either a URL or a file:\n",
    "image_input = \"https://upload.wikimedia.org/wikipedia/commons/thumb/2/2c/Indonesian_government%2C_military%2C_or_police_officials_license_plate.jpg/640px-Indonesian_government%2C_military%2C_or_police_officials_license_plate.jpg\"\n",
    "# Or if you want to use a local file:\n",
    "# image_input = \"media/images/car.jpg\" # Put here the path to your image\n",
    "\n",
    "# Process the image input to get base64-encoded data\n",
    "image_data = process_image_input(image_input)\n",
    "\n",
    "prompt = \"\"\"\n",
    "Please analyze the image of a vehicle's license plate and output the following details in JSON format:\n",
    "{\n",
    "    'plate': 'B 1234 ABC',\n",
    "    'vehicle': 'car',\n",
    "    'type': 'sedan',\n",
    "    'color': 'red',\n",
    "    'expiry_date': '07 - 17',\n",
    "    'gate_open_time': '2024-12-02 18:15:01',\n",
    "    'gate_closed_time': 'N/A'\n",
    "}. Only return the JSON object, and use 'N/A' for missing or unknown information.\n",
    "\"\"\"\n",
    "\n",
    "\n",
    "# Send the request to the model\n",
    "response = model.generate_content(\n",
    "    [\n",
    "        {\n",
    "            \"mime_type\": \"image/jpeg\",\n",
    "            \"data\": image_data,\n",
    "        },\n",
    "        prompt,\n",
    "    ]\n",
    ")\n",
    "\n",
    "# Display the response in markdown\n",
    "Markdown(response.text)\n"
   ]
  }
 ],
 "metadata": {
  "colab": {
   "provenance": []
  },
  "kernelspec": {
   "display_name": "Python 3",
   "name": "python3"
  },
  "language_info": {
   "codemirror_mode": {
    "name": "ipython",
    "version": 3
   },
   "file_extension": ".py",
   "mimetype": "text/x-python",
   "name": "python",
   "nbconvert_exporter": "python",
   "pygments_lexer": "ipython3",
   "version": "3.11.8"
  }
 },
 "nbformat": 4,
 "nbformat_minor": 0
}
