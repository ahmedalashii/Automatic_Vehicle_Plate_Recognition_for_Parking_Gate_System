{
 "cells": [
  {
   "cell_type": "code",
   "execution_count": null,
   "metadata": {
    "id": "4WnnY40oQgAs"
   },
   "outputs": [],
   "source": [
    "!pip install -q -U google-generativeai"
   ]
  },
  {
   "cell_type": "code",
   "execution_count": null,
   "metadata": {
    "id": "za8B6ml7Q-l3"
   },
   "outputs": [
    {
     "ename": "",
     "evalue": "",
     "output_type": "error",
     "traceback": [
      "\u001b[1;31mRunning cells with 'base (Python 3.11.7)' requires the ipykernel package.\n",
      "\u001b[1;31mRun the following command to install 'ipykernel' into the Python environment. \n",
      "\u001b[1;31mCommand: 'conda install -n base ipykernel --update-deps --force-reinstall'"
     ]
    }
   ],
   "source": [
    "from google.colab import userdata\n",
    "import google.generativeai as genai\n",
    "GOOGLE_API_KEY=userdata.get('GOOGLE_API_KEY')\n",
    "\n",
    "genai.configure(api_key=GOOGLE_API_KEY)"
   ]
  },
  {
   "cell_type": "code",
   "execution_count": null,
   "metadata": {
    "colab": {
     "base_uri": "https://localhost:8080/",
     "height": 173
    },
    "id": "QH4LDwaqR8_T",
    "outputId": "aaffcd2b-ab8e-4f64-8522-7ba8241d141e"
   },
   "outputs": [
    {
     "data": {
      "text/markdown": [
       "```json\n",
       "{\n",
       "    'plate': 'B 1308 RFK',\n",
       "    'vehicle': 'car',\n",
       "    'type': 'SUV',\n",
       "    'color': 'black',\n",
       "    'expiry_date': '09-22',\n",
       "    'gate_open_time': 'N/A',\n",
       "    'gate_closed_time': 'N/A'\n",
       "}\n",
       "```"
      ],
      "text/plain": [
       "<IPython.core.display.Markdown object>"
      ]
     },
     "execution_count": 9,
     "metadata": {},
     "output_type": "execute_result"
    }
   ],
   "source": [
    "# Plate Number Recognition from the frames of a speicific local video\n",
    "\n",
    "from google.colab import userdata\n",
    "import google.generativeai as genai\n",
    "import httpx\n",
    "import base64\n",
    "from IPython.display import Markdown, display\n",
    "import os\n",
    "import cv2\n",
    "\n",
    "# Install necessary packages\n",
    "!pip install -q -U google-generativeai\n",
    "!pip install opencv-python-headless\n",
    "\n",
    "GOOGLE_API_KEY = userdata.get('GOOGLE_API_KEY')\n",
    "\n",
    "genai.configure(api_key=GOOGLE_API_KEY)\n",
    "\n",
    "# Choose a Gemini model\n",
    "model = genai.GenerativeModel(model_name=\"gemini-1.5-flash\")\n",
    "\n",
    "def process_image_input(image_input):\n",
    "    \"\"\"Converts image from URL or file path to base64 encoding.\"\"\"\n",
    "    if isinstance(image_input, str) and image_input.startswith(\"http\"):\n",
    "        response = httpx.get(image_input)\n",
    "        if response.status_code == 200:\n",
    "            return base64.b64encode(response.content).decode(\"utf-8\")\n",
    "        else:\n",
    "            raise ValueError(\"Failed to retrieve image from URL\")\n",
    "    elif os.path.isfile(image_input):\n",
    "        with open(image_input, \"rb\") as file:\n",
    "            return base64.b64encode(file.read()).decode(\"utf-8\")\n",
    "    else:\n",
    "        raise ValueError(\"Invalid input: must be either a file path or a valid image URL.\")\n",
    "\n",
    "def analyze_video(video_path):\n",
    "    \"\"\"Extract frames from a video and analyze license plates.\"\"\"\n",
    "    try:\n",
    "        # Open the video and extract frames\n",
    "        vidcap = cv2.VideoCapture(video_path)\n",
    "        success, image = vidcap.read()\n",
    "        count = 0\n",
    "        results = []\n",
    "\n",
    "        while success:\n",
    "            frame_filename = f\"frame{count}.jpg\"\n",
    "            cv2.imwrite(frame_filename, image)  # Save frame as JPEG file\n",
    "\n",
    "            image_data = process_image_input(frame_filename)\n",
    "\n",
    "            prompt = \"\"\"\n",
    "            Please analyze the image of a vehicle's license plate and output the following details in JSON format:\n",
    "            {\n",
    "                'plate': 'B 1234 ABC',\n",
    "                'vehicle': 'car',\n",
    "                'type': 'sedan',\n",
    "                'color': 'red',\n",
    "                'expiry_date': '07 - 17',\n",
    "                'gate_open_time': '2024-12-02 18:15:01',\n",
    "                'gate_closed_time': 'N/A'\n",
    "            }. Only return the JSON object, and use 'N/A' for missing or unknown information.\n",
    "            \"\"\"\n",
    "            # Send the image data to the model\n",
    "            response = model.generate_content(\n",
    "                [\n",
    "                    {\n",
    "                        \"mime_type\": \"image/jpeg\",\n",
    "                        \"data\": image_data,\n",
    "                    },\n",
    "                    prompt,\n",
    "                ]\n",
    "            )\n",
    "\n",
    "            try:\n",
    "                # Directly display the response as markdown instead of decoding it\n",
    "                print(f\"Frame {count + 1}:\")\n",
    "                display(Markdown(response.text))\n",
    "            except Exception as e:\n",
    "                print(f\"Error displaying response: {e}\")\n",
    "\n",
    "            success, image = vidcap.read()  # Read the next frame\n",
    "            count += 1\n",
    "\n",
    "            # Process only the first 5 frames or adjust as needed\n",
    "            if count >= 5:\n",
    "                break\n",
    "\n",
    "        # Clean up the frame files\n",
    "        for i in range(count):\n",
    "            os.remove(f\"frame{i}.jpg\")\n",
    "\n",
    "    except Exception as e:\n",
    "        print(f\"An error occurred: {e}\")\n",
    "        return None\n",
    "\n",
    "video_path = \"media/videos/plate_number_video.mp4\" # Put here the path to your video\n",
    "\n",
    "# Analyze the video\n",
    "analyze_video(video_path)\n"
   ]
  }
 ],
 "metadata": {
  "colab": {
   "provenance": []
  },
  "kernelspec": {
   "display_name": "base",
   "language": "python",
   "name": "python3"
  },
  "language_info": {
   "codemirror_mode": {
    "name": "ipython",
    "version": 3
   },
   "file_extension": ".py",
   "mimetype": "text/x-python",
   "name": "python",
   "nbconvert_exporter": "python",
   "pygments_lexer": "ipython3",
   "version": "3.11.7"
  }
 },
 "nbformat": 4,
 "nbformat_minor": 0
}
