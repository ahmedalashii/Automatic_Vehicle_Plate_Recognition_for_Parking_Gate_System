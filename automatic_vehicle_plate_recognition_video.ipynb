{
 "cells": [
  {
   "cell_type": "code",
   "execution_count": null,
   "metadata": {
    "id": "4WnnY40oQgAs"
   },
   "outputs": [],
   "source": [
    "!pip install -q -U google-generativeai"
   ]
  },
  {
   "cell_type": "code",
   "execution_count": null,
   "metadata": {
    "id": "za8B6ml7Q-l3"
   },
   "outputs": [
    {
     "ename": "",
     "evalue": "",
     "output_type": "error",
     "traceback": [
      "\u001b[1;31mRunning cells with 'base (Python 3.11.7)' requires the ipykernel package.\n",
      "\u001b[1;31mRun the following command to install 'ipykernel' into the Python environment. \n",
      "\u001b[1;31mCommand: 'conda install -n base ipykernel --update-deps --force-reinstall'"
     ]
    }
   ],
   "source": [
    "from google.colab import userdata\n",
    "import google.generativeai as genai\n",
    "GOOGLE_API_KEY=userdata.get('GOOGLE_API_KEY')\n",
    "\n",
    "genai.configure(api_key=GOOGLE_API_KEY)"
   ]
  },
  {
   "cell_type": "code",
   "execution_count": null,
   "metadata": {
    "colab": {
     "base_uri": "https://localhost:8080/",
     "height": 173
    },
    "id": "QH4LDwaqR8_T",
    "outputId": "aaffcd2b-ab8e-4f64-8522-7ba8241d141e"
   },
   "outputs": [
    {
     "data": {
      "text/markdown": [
       "```json\n",
       "{\n",
       "    'plate': 'B 1308 RFK',\n",
       "    'vehicle': 'car',\n",
       "    'type': 'SUV',\n",
       "    'color': 'black',\n",
       "    'expiry_date': '09-22',\n",
       "    'gate_open_time': 'N/A',\n",
       "    'gate_closed_time': 'N/A'\n",
       "}\n",
       "```"
      ],
      "text/plain": [
       "<IPython.core.display.Markdown object>"
      ]
     },
     "execution_count": 9,
     "metadata": {},
     "output_type": "execute_result"
    }
   ],
   "source": [
    "from google.colab import userdata\n",
    "import google.generativeai as genai\n",
    "import os\n",
    "from IPython.display import Markdown\n",
    "\n",
    "!pip install -q -U google-generativeai\n",
    "\n",
    "GOOGLE_API_KEY = userdata.get('GOOGLE_API_KEY')\n",
    "genai.configure(api_key=GOOGLE_API_KEY)\n",
    "\n",
    "# Choose a Gemini model.\n",
    "model = genai.GenerativeModel(model_name=\"gemini-1.5-pro-latest\")\n",
    "\n",
    "# Replace with the actual path to your video file\n",
    "video_file_name = \"media/videos/plate_number_video.mp4\"\n",
    "\n",
    "print(f\"Uploading file...\")\n",
    "video_file = genai.upload_file(path=video_file_name)\n",
    "print(f\"Completed upload: {video_file.uri}\")\n",
    "\n",
    "import time\n",
    "\n",
    "# Check whether the file is ready to be used.\n",
    "while video_file.state.name == \"PROCESSING\":\n",
    "    print('.', end='')\n",
    "    time.sleep(10)\n",
    "    video_file = genai.get_file(video_file.name)\n",
    "\n",
    "if video_file.state.name == \"FAILED\":\n",
    "  raise ValueError(video_file.state.name)\n",
    "\n",
    "# Create the prompt.  This is the key change for the new task\n",
    "prompt = \"\"\"\n",
    "            Please analyze the image of a vehicle's license plate and output the following details in JSON format:\n",
    "            {\n",
    "                'plate': 'B 1234 ABC',\n",
    "                'vehicle': 'car',\n",
    "                'type': 'sedan',\n",
    "                'color': 'red',\n",
    "                'expiry_date': '07 - 17',\n",
    "                'gate_open_time': '2024-12-02 18:15:01',\n",
    "                'gate_closed_time': 'N/A'\n",
    "            }. Only return the JSON object, and use 'N/A' for missing or unknown information.\n",
    "            \"\"\"\n",
    "\n",
    "response = model.generate_content([video_file, prompt],\n",
    "                                  request_options={\"timeout\": 600})\n",
    "\n",
    "# Print the response, rendering any Markdown\n",
    "Markdown(response.text)"
   ]
  }
 ],
 "metadata": {
  "colab": {
   "provenance": []
  },
  "kernelspec": {
   "display_name": "base",
   "language": "python",
   "name": "python3"
  },
  "language_info": {
   "codemirror_mode": {
    "name": "ipython",
    "version": 3
   },
   "file_extension": ".py",
   "mimetype": "text/x-python",
   "name": "python",
   "nbconvert_exporter": "python",
   "pygments_lexer": "ipython3",
   "version": "3.11.7"
  }
 },
 "nbformat": 4,
 "nbformat_minor": 0
}
